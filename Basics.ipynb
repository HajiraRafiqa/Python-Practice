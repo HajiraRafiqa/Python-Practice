{
  "nbformat": 4,
  "nbformat_minor": 0,
  "metadata": {
    "colab": {
      "name": "Untitled7.ipynb",
      "provenance": [],
      "authorship_tag": "ABX9TyMc9UMMjU+J80q4rZc4tE2S",
      "include_colab_link": true
    },
    "kernelspec": {
      "name": "python3",
      "display_name": "Python 3"
    },
    "language_info": {
      "name": "python"
    }
  },
  "cells": [
    {
      "cell_type": "markdown",
      "metadata": {
        "id": "view-in-github",
        "colab_type": "text"
      },
      "source": [
        "<a href=\"https://colab.research.google.com/github/HajiraRafiqa/Python-Practice/blob/main/Basics.ipynb\" target=\"_parent\"><img src=\"https://colab.research.google.com/assets/colab-badge.svg\" alt=\"Open In Colab\"/></a>"
      ]
    },
    {
      "cell_type": "markdown",
      "source": [
        "Python Operators and operands"
      ],
      "metadata": {
        "id": "y4Jyo3yBsbBN"
      }
    },
    {
      "cell_type": "code",
      "execution_count": 3,
      "metadata": {
        "colab": {
          "base_uri": "https://localhost:8080/"
        },
        "id": "3rJku_qa2e2o",
        "outputId": "2e4aabb4-c5fe-4734-a351-964eae6fdef5"
      },
      "outputs": [
        {
          "output_type": "stream",
          "name": "stdout",
          "text": [
            "20\n",
            "j\n",
            "r\n",
            "arijaH\n",
            "ji\n",
            "My name is Hajira\n",
            "17\n"
          ]
        }
      ],
      "source": [
        "2 + 3\n",
        "\n",
        "_ = 10;\n",
        "\n",
        "print(_ + 10)\n",
        "\n",
        "name = \"Hajira\"\n",
        "\n",
        "print(name[2])\n",
        "print(name[-2])\n",
        "print(name[::-1])\n",
        "print(name[2:4])\n",
        "name_1 = \"My name is \"+ name\n",
        "print(name_1)\n",
        "print(len(name_1))"
      ]
    },
    {
      "cell_type": "markdown",
      "source": [
        "Bitwise operators"
      ],
      "metadata": {
        "id": "VcS6neYukmfL"
      }
    },
    {
      "cell_type": "code",
      "source": [
        "\n",
        "\n",
        "print(~15)\n",
        "print(~25)\n",
        "\n",
        "#new line \n",
        "print(\"\\n\")\n",
        "\n",
        "#and \n",
        "print(12 & 13)\n",
        "\n",
        "#or\n",
        "print(12 | 13)\n",
        "\n",
        "print(28 | 15)\n",
        "\n",
        "print(25 | 30)\n",
        "\n",
        "print(\"\\n\\n\")\n",
        "\n",
        "print(25 ^ 30)\n",
        "print(28 ^ 15)\n",
        "print(\"\\n\\n\")\n",
        "\n",
        "print(10 << 2)\n",
        "print(10 >> 2)"
      ],
      "metadata": {
        "colab": {
          "base_uri": "https://localhost:8080/"
        },
        "id": "yZsFQQYTks7e",
        "outputId": "0f3f438e-7236-467a-a0e8-b266c1bba3c0"
      },
      "execution_count": 3,
      "outputs": [
        {
          "output_type": "stream",
          "name": "stdout",
          "text": [
            "-16\n",
            "-26\n",
            "\n",
            "\n",
            "12\n",
            "13\n",
            "31\n",
            "31\n",
            "\n",
            "\n",
            "\n",
            "7\n",
            "19\n",
            "\n",
            "\n",
            "\n",
            "40\n",
            "2\n"
          ]
        }
      ]
    }
  ]
}