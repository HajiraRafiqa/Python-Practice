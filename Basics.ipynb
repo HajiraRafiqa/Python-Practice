{
  "nbformat": 4,
  "nbformat_minor": 0,
  "metadata": {
    "colab": {
      "name": "Untitled7.ipynb",
      "provenance": [],
      "authorship_tag": "ABX9TyPnmIOkyjSA/OEuow7DfefN",
      "include_colab_link": true
    },
    "kernelspec": {
      "name": "python3",
      "display_name": "Python 3"
    },
    "language_info": {
      "name": "python"
    }
  },
  "cells": [
    {
      "cell_type": "markdown",
      "metadata": {
        "id": "view-in-github",
        "colab_type": "text"
      },
      "source": [
        "<a href=\"https://colab.research.google.com/github/HajiraRafiqa/Python-Practice/blob/main/Basics.ipynb\" target=\"_parent\"><img src=\"https://colab.research.google.com/assets/colab-badge.svg\" alt=\"Open In Colab\"/></a>"
      ]
    },
    {
      "cell_type": "markdown",
      "source": [
        "Python Operators and operands"
      ],
      "metadata": {
        "id": "y4Jyo3yBsbBN"
      }
    },
    {
      "cell_type": "code",
      "execution_count": null,
      "metadata": {
        "colab": {
          "base_uri": "https://localhost:8080/"
        },
        "id": "3rJku_qa2e2o",
        "outputId": "2e4aabb4-c5fe-4734-a351-964eae6fdef5"
      },
      "outputs": [
        {
          "output_type": "stream",
          "name": "stdout",
          "text": [
            "20\n",
            "j\n",
            "r\n",
            "arijaH\n",
            "ji\n",
            "My name is Hajira\n",
            "17\n"
          ]
        }
      ],
      "source": [
        "2 + 3\n",
        "\n",
        "_ = 10;\n",
        "\n",
        "print(_ + 10)\n",
        "\n",
        "name = \"Hajira\"\n",
        "\n",
        "print(name[2])\n",
        "print(name[-2])\n",
        "print(name[::-1])\n",
        "print(name[2:4])\n",
        "name_1 = \"My name is \"+ name\n",
        "print(name_1)\n",
        "print(len(name_1))"
      ]
    },
    {
      "cell_type": "markdown",
      "source": [
        "Bitwise operators"
      ],
      "metadata": {
        "id": "VcS6neYukmfL"
      }
    },
    {
      "cell_type": "code",
      "source": [
        "\n",
        "\n",
        "print(~15)\n",
        "print(~25)\n",
        "\n",
        "#new line \n",
        "print(\"\\n\")\n",
        "\n",
        "#and \n",
        "print(12 & 13)\n",
        "\n",
        "#or\n",
        "print(12 | 13)\n",
        "\n",
        "print(28 | 15)\n",
        "\n",
        "print(25 | 30)\n",
        "\n",
        "print(\"\\n\\n\")\n",
        "\n",
        "print(25 ^ 30)\n",
        "print(28 ^ 15)\n",
        "print(\"\\n\\n\")\n",
        "\n",
        "print(10 << 2)\n",
        "print(10 >> 2)"
      ],
      "metadata": {
        "colab": {
          "base_uri": "https://localhost:8080/"
        },
        "id": "yZsFQQYTks7e",
        "outputId": "0f3f438e-7236-467a-a0e8-b266c1bba3c0"
      },
      "execution_count": null,
      "outputs": [
        {
          "output_type": "stream",
          "name": "stdout",
          "text": [
            "-16\n",
            "-26\n",
            "\n",
            "\n",
            "12\n",
            "13\n",
            "31\n",
            "31\n",
            "\n",
            "\n",
            "\n",
            "7\n",
            "19\n",
            "\n",
            "\n",
            "\n",
            "40\n",
            "2\n"
          ]
        }
      ]
    },
    {
      "cell_type": "code",
      "source": [
        "import math\n",
        "\n",
        "print(math.sqrt(25))\n",
        "print(math.ceil(5.87654))\n",
        "print(math.floor(45.45768))\n",
        "print(math.log10(25))\n",
        "print(math.factorial(5))\n",
        "print(math.factorial(10))\n",
        "print(math.pow(3, 3))\n",
        "print(math.pi)\n",
        "print(math.e)\n"
      ],
      "metadata": {
        "colab": {
          "base_uri": "https://localhost:8080/"
        },
        "id": "pG0tcYmysm2T",
        "outputId": "268a6610-d306-46a7-af8a-292bbbf0fb42"
      },
      "execution_count": null,
      "outputs": [
        {
          "output_type": "stream",
          "name": "stdout",
          "text": [
            "5.0\n",
            "6\n",
            "45\n",
            "1.3979400086720377\n",
            "120\n",
            "3628800\n",
            "27.0\n",
            "3.141592653589793\n",
            "2.718281828459045\n"
          ]
        }
      ]
    },
    {
      "cell_type": "markdown",
      "source": [
        "input() - this takes String as default."
      ],
      "metadata": {
        "id": "F8MBYnMbsSIj"
      }
    },
    {
      "cell_type": "code",
      "source": [
        "x = int(input(\"Enter The 1st Number : \"))\n",
        "y = int(input(\"Enter The 2nd Number : \"))\n",
        "\n",
        "z = x + y\n",
        "\n",
        "print(z)\n",
        "\n",
        "\n",
        "ch = input('Enter a Char : ')[0]\n",
        "print(ch)\n",
        "\n",
        "\n",
        "result = eval(input('Enter an Expression : '))\n",
        "print(result)\n",
        "\n",
        "\n",
        "# Write a Code to find the cube of a number\n",
        "\n",
        "num = int(input(\"Enter the Number That You want to find the Cube of : \"))\n",
        "print(num**3)"
      ],
      "metadata": {
        "colab": {
          "base_uri": "https://localhost:8080/"
        },
        "id": "WNcHGkPcs1El",
        "outputId": "236cddd2-3b5f-4251-9039-2e5a98864050"
      },
      "execution_count": null,
      "outputs": [
        {
          "output_type": "stream",
          "name": "stdout",
          "text": [
            "Enter The 1st Number : 6\n",
            "Enter The 2nd Number : 8\n",
            "14\n",
            "Enter a Char : a\n",
            "a\n",
            "Enter an Expression : 2+3\n",
            "5\n",
            "Enter the Number That You want to find the Cube of : 2\n",
            "8\n"
          ]
        }
      ]
    },
    {
      "cell_type": "markdown",
      "source": [
        "if else"
      ],
      "metadata": {
        "id": "BGQ0Ad59vjil"
      }
    },
    {
      "cell_type": "code",
      "source": [
        "a = 22\n",
        "\n",
        "if a % 2 == 0:\n",
        "    print(\"Even\")\n",
        "\n",
        "    if a > 10:\n",
        "        print(\"Greater Than 10\")\n",
        "    else:\n",
        "        print(\"Less Than 10\")\n",
        "\n",
        "else:\n",
        "    print(\"Odd\")\n",
        "\n",
        "print(\"end\")\n",
        "\n",
        "print(\"\\n\")\n",
        "\n",
        "x = 2\n",
        "if x == 1:\n",
        "    print(\"One\")\n",
        "elif x == 2:\n",
        "    print(\"Two\")\n",
        "elif x == 3:\n",
        "    print(\"Three\")\n",
        "elif x == 4:\n",
        "    print(\"Four\")\n",
        "else:\n",
        "    print(\"Greater Than 4\")\n",
        "\n",
        "\n",
        "\n",
        "\n",
        "#Write a code to check a given number is positive or negative\n",
        "n = -5\n",
        "if n > 0:\n",
        "    print(\"Positive\")\n",
        "elif n < 0:\n",
        "    print(\"Negative\")\n",
        "else:\n",
        "    print(\"Zero\")\n",
        "\n",
        "print(\"\\n\\n\")\n",
        "\n",
        "#Take Three Values From User and Find the Greatest Number From Them\n",
        "\n",
        "v1 = int(input(\"Enter The First Value : \"))\n",
        "v2 = int(input(\"Enter The Second Value : \"))\n",
        "v3 = int(input(\"Enter The Third Value : \"))\n",
        "\n",
        "if v1 > (v2 and v3):\n",
        "    print(\"Value341 is Greatest Number\")\n",
        "elif v2 > (v1 and v3):\n",
        "    print(\"Value2 is Greatest Number\")\n",
        "else:\n",
        "    print(\"Value3 is Greatest Number\")\n",
        "\n",
        "\n"
      ],
      "metadata": {
        "colab": {
          "base_uri": "https://localhost:8080/"
        },
        "id": "Y54T05cZvoa-",
        "outputId": "e3157ded-2d79-4051-b463-9fafddfae10f"
      },
      "execution_count": null,
      "outputs": [
        {
          "output_type": "stream",
          "name": "stdout",
          "text": [
            "Even\n",
            "Greater Than 10\n",
            "end\n",
            "\n",
            "\n",
            "Two\n",
            "Negative\n",
            "\n",
            "\n",
            "\n",
            "Enter The First Value : 2\n",
            "Enter The Second Value : 3\n",
            "Enter The Third Value : 4\n",
            "Value3 is Greatest Number\n"
          ]
        }
      ]
    },
    {
      "cell_type": "markdown",
      "source": [
        "while loop"
      ],
      "metadata": {
        "id": "tWnRllokZPk4"
      }
    },
    {
      "cell_type": "code",
      "source": [
        "\n",
        "i = 0\n",
        "while i < 5:\n",
        "    print(\"Hello\")\n",
        "    i += 1\n",
        "\n",
        "print(\"\\n\")\n",
        "i = 5\n",
        "while i>=1:\n",
        "    print(\"Hello\")\n",
        "    i -= 1\n",
        "\n",
        "\n",
        "\n",
        "i = 1\n",
        "while i <= 5:\n",
        "    print(\"ABC  \", i)\n",
        "    i += 1\n",
        "\n",
        "\n",
        "print(\"\\n\")\n",
        "\n",
        "i = 1\n",
        "while i <= 5:\n",
        "    print(\"ABC \", end=\"\")\n",
        "    j = 1\n",
        "    while j <= 4:\n",
        "        print(\"letters \", end=\"\")\n",
        "\n",
        "        j += 1\n",
        "\n",
        "    print()\n",
        "\n",
        "    i += 1\n",
        "\n",
        "print(\"\\n\")\n",
        "\n",
        "# Assigments\n",
        "\n",
        "# Write a code to print all the values from 1 to 100.\n",
        "# Skip the number which are divisible by 3 or 5\n",
        "\n",
        "i = 1\n",
        "while i <= 100:\n",
        "    if i % 3 == 0 or i % 5 == 0:\n",
        "        pass\n",
        "    else:\n",
        "        print(i)\n",
        "    i += 1\n",
        "\n",
        "print(\"\\n\\n\")\n",
        "\n",
        "\n",
        "# 2. Write a Code to Print The Below Pattern\n",
        "\"\"\"\n",
        "pattern \n",
        "\n",
        "# # # # #\n",
        "# # # # #\n",
        "# # # # #\n",
        "# # # # #\n",
        "\n",
        "\"\"\"\n",
        "\n",
        "a = 0\n",
        "while a < 4:\n",
        "    b = 0\n",
        "    while b < 5:\n",
        "        print(\"# \", end=\"\")\n",
        "        b += 1\n",
        "    a += 1\n",
        "    print()"
      ],
      "metadata": {
        "colab": {
          "base_uri": "https://localhost:8080/"
        },
        "id": "LbPus7zYY8-a",
        "outputId": "a9f9feda-cfe9-45ac-91bb-e7df9e5cac5f"
      },
      "execution_count": 4,
      "outputs": [
        {
          "output_type": "stream",
          "name": "stdout",
          "text": [
            "Hello\n",
            "Hello\n",
            "Hello\n",
            "Hello\n",
            "Hello\n",
            "\n",
            "\n",
            "Hello\n",
            "Hello\n",
            "Hello\n",
            "Hello\n",
            "Hello\n",
            "ABC   1\n",
            "ABC   2\n",
            "ABC   3\n",
            "ABC   4\n",
            "ABC   5\n",
            "\n",
            "\n",
            "ABC letters letters letters letters \n",
            "ABC letters letters letters letters \n",
            "ABC letters letters letters letters \n",
            "ABC letters letters letters letters \n",
            "ABC letters letters letters letters \n",
            "\n",
            "\n",
            "1\n",
            "2\n",
            "4\n",
            "7\n",
            "8\n",
            "11\n",
            "13\n",
            "14\n",
            "16\n",
            "17\n",
            "19\n",
            "22\n",
            "23\n",
            "26\n",
            "28\n",
            "29\n",
            "31\n",
            "32\n",
            "34\n",
            "37\n",
            "38\n",
            "41\n",
            "43\n",
            "44\n",
            "46\n",
            "47\n",
            "49\n",
            "52\n",
            "53\n",
            "56\n",
            "58\n",
            "59\n",
            "61\n",
            "62\n",
            "64\n",
            "67\n",
            "68\n",
            "71\n",
            "73\n",
            "74\n",
            "76\n",
            "77\n",
            "79\n",
            "82\n",
            "83\n",
            "86\n",
            "88\n",
            "89\n",
            "91\n",
            "92\n",
            "94\n",
            "97\n",
            "98\n",
            "\n",
            "\n",
            "\n",
            "# # # # # \n",
            "# # # # # \n",
            "# # # # # \n",
            "# # # # # \n"
          ]
        }
      ]
    },
    {
      "cell_type": "code",
      "source": [
        "\n",
        "n = \"Rafi\"\n",
        "\n",
        "for i in n:\n",
        "    print(i)\n",
        "\n",
        "\n",
        "for i in (7,43,6,6,\"Rafi\"):    # List of Sequence Values\n",
        "    print(i)\n",
        "\n",
        "\n",
        "for i in range(1, 11):\n",
        "    print(i, end=\" \")\n",
        "\n",
        "\n",
        "for i in range(20, 5, -1):\n",
        "    print(i, end=\" \")\n",
        "\n",
        "\n",
        "\n",
        "for i in range(1, 21):\n",
        "    if i%5 != 0:\n",
        "        print(i)\n",
        "\n",
        "\n",
        "# 1. Print All The Perfect Square Numbers Between 1 and 50\n",
        "\n",
        "for i in range(1, 51):\n",
        "    if i**( 0.5 ) == int(i**( 0.5 )):\n",
        "        print(i, end=\" \")"
      ],
      "metadata": {
        "colab": {
          "base_uri": "https://localhost:8080/"
        },
        "id": "Pi_46HyllVKn",
        "outputId": "82b30f3b-03d5-4731-ac8a-32d07b0dd233"
      },
      "execution_count": 6,
      "outputs": [
        {
          "output_type": "stream",
          "name": "stdout",
          "text": [
            "R\n",
            "a\n",
            "f\n",
            "i\n",
            "7\n",
            "43\n",
            "6\n",
            "6\n",
            "Rafi\n",
            "1 2 3 4 5 6 7 8 9 10 20 19 18 17 16 15 14 13 12 11 10 9 8 7 6 1\n",
            "2\n",
            "3\n",
            "4\n",
            "6\n",
            "7\n",
            "8\n",
            "9\n",
            "11\n",
            "12\n",
            "13\n",
            "14\n",
            "16\n",
            "17\n",
            "18\n",
            "19\n",
            "1 4 9 16 25 36 49 "
          ]
        }
      ]
    }
  ]
}