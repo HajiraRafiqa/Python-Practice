{
  "nbformat": 4,
  "nbformat_minor": 0,
  "metadata": {
    "colab": {
      "name": "Untitled7.ipynb",
      "provenance": [],
      "authorship_tag": "ABX9TyO6fHTWsJlIXFToQ+whrrBD",
      "include_colab_link": true
    },
    "kernelspec": {
      "name": "python3",
      "display_name": "Python 3"
    },
    "language_info": {
      "name": "python"
    }
  },
  "cells": [
    {
      "cell_type": "markdown",
      "metadata": {
        "id": "view-in-github",
        "colab_type": "text"
      },
      "source": [
        "<a href=\"https://colab.research.google.com/github/HajiraRafiqa/Python-Practice/blob/main/Basics.ipynb\" target=\"_parent\"><img src=\"https://colab.research.google.com/assets/colab-badge.svg\" alt=\"Open In Colab\"/></a>"
      ]
    },
    {
      "cell_type": "markdown",
      "source": [
        "Python Operators and operands"
      ],
      "metadata": {
        "id": "y4Jyo3yBsbBN"
      }
    },
    {
      "cell_type": "code",
      "execution_count": 3,
      "metadata": {
        "colab": {
          "base_uri": "https://localhost:8080/"
        },
        "id": "3rJku_qa2e2o",
        "outputId": "2e4aabb4-c5fe-4734-a351-964eae6fdef5"
      },
      "outputs": [
        {
          "output_type": "stream",
          "name": "stdout",
          "text": [
            "20\n",
            "j\n",
            "r\n",
            "arijaH\n",
            "ji\n",
            "My name is Hajira\n",
            "17\n"
          ]
        }
      ],
      "source": [
        "2 + 3\n",
        "\n",
        "_ = 10;\n",
        "\n",
        "print(_ + 10)\n",
        "\n",
        "name = \"Hajira\"\n",
        "\n",
        "print(name[2])\n",
        "print(name[-2])\n",
        "print(name[::-1])\n",
        "print(name[2:4])\n",
        "name_1 = \"My name is \"+ name\n",
        "print(name_1)\n",
        "print(len(name_1))"
      ]
    },
    {
      "cell_type": "markdown",
      "source": [
        "Bitwise operators"
      ],
      "metadata": {
        "id": "VcS6neYukmfL"
      }
    },
    {
      "cell_type": "code",
      "source": [
        "\n",
        "\n",
        "print(~15)\n",
        "print(~25)\n",
        "\n",
        "#new line \n",
        "print(\"\\n\")\n",
        "\n",
        "#and \n",
        "print(12 & 13)\n",
        "\n",
        "#or\n",
        "print(12 | 13)\n",
        "\n",
        "print(28 | 15)\n",
        "\n",
        "print(25 | 30)\n",
        "\n",
        "print(\"\\n\\n\")\n",
        "\n",
        "print(25 ^ 30)\n",
        "print(28 ^ 15)\n",
        "print(\"\\n\\n\")\n",
        "\n",
        "print(10 << 2)\n",
        "print(10 >> 2)"
      ],
      "metadata": {
        "colab": {
          "base_uri": "https://localhost:8080/"
        },
        "id": "yZsFQQYTks7e",
        "outputId": "0f3f438e-7236-467a-a0e8-b266c1bba3c0"
      },
      "execution_count": 3,
      "outputs": [
        {
          "output_type": "stream",
          "name": "stdout",
          "text": [
            "-16\n",
            "-26\n",
            "\n",
            "\n",
            "12\n",
            "13\n",
            "31\n",
            "31\n",
            "\n",
            "\n",
            "\n",
            "7\n",
            "19\n",
            "\n",
            "\n",
            "\n",
            "40\n",
            "2\n"
          ]
        }
      ]
    },
    {
      "cell_type": "code",
      "source": [
        "import math\n",
        "\n",
        "print(math.sqrt(25))\n",
        "print(math.ceil(5.87654))\n",
        "print(math.floor(45.45768))\n",
        "print(math.log10(25))\n",
        "print(math.factorial(5))\n",
        "print(math.factorial(10))\n",
        "print(math.pow(3, 3))\n",
        "print(math.pi)\n",
        "print(math.e)\n"
      ],
      "metadata": {
        "colab": {
          "base_uri": "https://localhost:8080/"
        },
        "id": "pG0tcYmysm2T",
        "outputId": "268a6610-d306-46a7-af8a-292bbbf0fb42"
      },
      "execution_count": 6,
      "outputs": [
        {
          "output_type": "stream",
          "name": "stdout",
          "text": [
            "5.0\n",
            "6\n",
            "45\n",
            "1.3979400086720377\n",
            "120\n",
            "3628800\n",
            "27.0\n",
            "3.141592653589793\n",
            "2.718281828459045\n"
          ]
        }
      ]
    },
    {
      "cell_type": "markdown",
      "source": [
        "input() - this takes String as default."
      ],
      "metadata": {
        "id": "F8MBYnMbsSIj"
      }
    },
    {
      "cell_type": "code",
      "source": [
        "x = int(input(\"Enter The 1st Number : \"))\n",
        "y = int(input(\"Enter The 2nd Number : \"))\n",
        "\n",
        "z = x + y\n",
        "\n",
        "print(z)\n",
        "\n",
        "\n",
        "ch = input('Enter a Char : ')[0]\n",
        "print(ch)\n",
        "\n",
        "\n",
        "result = eval(input('Enter an Expression : '))\n",
        "print(result)\n",
        "\n",
        "\n",
        "# Write a Code to find the cube of a number\n",
        "\n",
        "num = int(input(\"Enter the Number That You want to find the Cube of : \"))\n",
        "print(num**3)"
      ],
      "metadata": {
        "colab": {
          "base_uri": "https://localhost:8080/"
        },
        "id": "WNcHGkPcs1El",
        "outputId": "236cddd2-3b5f-4251-9039-2e5a98864050"
      },
      "execution_count": 9,
      "outputs": [
        {
          "output_type": "stream",
          "name": "stdout",
          "text": [
            "Enter The 1st Number : 6\n",
            "Enter The 2nd Number : 8\n",
            "14\n",
            "Enter a Char : a\n",
            "a\n",
            "Enter an Expression : 2+3\n",
            "5\n",
            "Enter the Number That You want to find the Cube of : 2\n",
            "8\n"
          ]
        }
      ]
    }
  ]
}