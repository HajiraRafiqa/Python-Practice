{
  "nbformat": 4,
  "nbformat_minor": 0,
  "metadata": {
    "colab": {
      "name": "Python basic programs.ipynb",
      "provenance": [],
      "authorship_tag": "ABX9TyOd+RIgFJlPnvfWenrwiaI9",
      "include_colab_link": true
    },
    "kernelspec": {
      "name": "python3",
      "display_name": "Python 3"
    },
    "language_info": {
      "name": "python"
    }
  },
  "cells": [
    {
      "cell_type": "markdown",
      "metadata": {
        "id": "view-in-github",
        "colab_type": "text"
      },
      "source": [
        "<a href=\"https://colab.research.google.com/github/HajiraRafiqa/Python-Practice/blob/main/Python_basic_programs.ipynb\" target=\"_parent\"><img src=\"https://colab.research.google.com/assets/colab-badge.svg\" alt=\"Open In Colab\"/></a>"
      ]
    },
    {
      "cell_type": "markdown",
      "source": [
        "Factorial of a Number"
      ],
      "metadata": {
        "id": "-83INC15VoBf"
      }
    },
    {
      "cell_type": "code",
      "execution_count": 2,
      "metadata": {
        "colab": {
          "base_uri": "https://localhost:8080/"
        },
        "id": "0E4Cucp0IMtI",
        "outputId": "765c0374-f165-4c3e-9d91-65d441743fdf"
      },
      "outputs": [
        {
          "output_type": "stream",
          "name": "stdout",
          "text": [
            "Enter The Number That You Want to Find The Factorial Of : 5\n",
            "120\n",
            "Enter The Number That You Want to Find The Factorial Of : 4\n",
            "24\n"
          ]
        }
      ],
      "source": [
        "n = int(input(\"Enter The Number That You Want to Find The Factorial Of : \"))\n",
        "x = 1\n",
        "for i in range(1, n+1):\n",
        "   x = x*i\n",
        "print(x)\n",
        "\n",
        "\n",
        "# Using Recursion\n",
        "\n",
        "def fact(n):\n",
        "    if n < 0:\n",
        "        return \"Negative Number\"\n",
        "    elif n == 1:\n",
        "        return 1\n",
        "    else:\n",
        "        return n*fact(n-1)\n",
        "\n",
        "\n",
        "x = int(input(\"Enter The Number That You Want to Find The Factorial Of : \"))\n",
        "print(fact(x))"
      ]
    }
  ]
}