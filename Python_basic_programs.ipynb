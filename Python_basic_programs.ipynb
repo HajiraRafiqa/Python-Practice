{
  "nbformat": 4,
  "nbformat_minor": 0,
  "metadata": {
    "colab": {
      "name": "Python basic programs.ipynb",
      "provenance": [],
      "authorship_tag": "ABX9TyOVqOpRr/K5K2ItVTbKgcIN",
      "include_colab_link": true
    },
    "kernelspec": {
      "name": "python3",
      "display_name": "Python 3"
    },
    "language_info": {
      "name": "python"
    }
  },
  "cells": [
    {
      "cell_type": "markdown",
      "metadata": {
        "id": "view-in-github",
        "colab_type": "text"
      },
      "source": [
        "<a href=\"https://colab.research.google.com/github/HajiraRafiqa/Python-Practice/blob/main/Python_basic_programs.ipynb\" target=\"_parent\"><img src=\"https://colab.research.google.com/assets/colab-badge.svg\" alt=\"Open In Colab\"/></a>"
      ]
    },
    {
      "cell_type": "markdown",
      "source": [
        "Factorial of a Number"
      ],
      "metadata": {
        "id": "-83INC15VoBf"
      }
    },
    {
      "cell_type": "code",
      "execution_count": null,
      "metadata": {
        "colab": {
          "base_uri": "https://localhost:8080/"
        },
        "id": "0E4Cucp0IMtI",
        "outputId": "765c0374-f165-4c3e-9d91-65d441743fdf"
      },
      "outputs": [
        {
          "output_type": "stream",
          "name": "stdout",
          "text": [
            "Enter The Number That You Want to Find The Factorial Of : 5\n",
            "120\n",
            "Enter The Number That You Want to Find The Factorial Of : 4\n",
            "24\n"
          ]
        }
      ],
      "source": [
        "n = int(input(\"Enter The Number That You Want to Find The Factorial Of : \"))\n",
        "x = 1\n",
        "for i in range(1, n+1):\n",
        "   x = x*i\n",
        "print(x)\n",
        "\n",
        "\n",
        "# Using Recursion\n",
        "\n",
        "def fact(n):\n",
        "    if n < 0:\n",
        "        return \"Negative Number\"\n",
        "    elif n == 1:\n",
        "        return 1\n",
        "    else:\n",
        "        return n*fact(n-1)\n",
        "\n",
        "\n",
        "x = int(input(\"Enter The Number That You Want to Find The Factorial Of : \"))\n",
        "print(fact(x))"
      ]
    },
    {
      "cell_type": "markdown",
      "source": [
        "Fib or not"
      ],
      "metadata": {
        "id": "-SePyx8UlfGt"
      }
    },
    {
      "cell_type": "code",
      "source": [
        "def Fibo_Not(n):\n",
        "    c = 0\n",
        "    a = 1\n",
        "    b = 1\n",
        "    if n == 0 or n == 1:\n",
        "        print(\"{} is Fibonacci\".format(n))\n",
        "    else:\n",
        "        while c < n:\n",
        "            c = a + b\n",
        "            b = a\n",
        "            a = c\n",
        "        if c == n:\n",
        "            print(\"{} is Fibonacci\".format(n))\n",
        "        else:\n",
        "            print(\"{} is Not Fibonacci\".format(n))\n",
        "\n",
        "\n",
        "Fibo_Not(25)"
      ],
      "metadata": {
        "colab": {
          "base_uri": "https://localhost:8080/"
        },
        "id": "RQIfoyDMlfw5",
        "outputId": "920a1c1d-a5e2-4cce-b610-774f3bcb42ef"
      },
      "execution_count": null,
      "outputs": [
        {
          "output_type": "stream",
          "name": "stdout",
          "text": [
            "25 is Not Fibonacci\n"
          ]
        }
      ]
    },
    {
      "cell_type": "markdown",
      "source": [
        "Sum of Natural numbers "
      ],
      "metadata": {
        "id": "BNeuLiiISubT"
      }
    },
    {
      "cell_type": "code",
      "source": [
        "def sum_n_natural(n):\n",
        "    x = 0\n",
        "    for i in range(1, n+1):\n",
        "        x = i + x\n",
        "    return x\n",
        "\n",
        "# Sum of Squares of n Natural Numbers\n",
        "\n",
        "def sum_sqr_n_natural(n):\n",
        "    x = 0\n",
        "    for i in range(1, n+1):\n",
        "        x = i**2 + x\n",
        "    return x\n",
        "\n",
        "\n",
        "print(sum_n_natural(10))\n",
        "print(sum_sqr_n_natural(3))"
      ],
      "metadata": {
        "colab": {
          "base_uri": "https://localhost:8080/"
        },
        "id": "JEIE--yMS_rg",
        "outputId": "517ffe58-3a20-49ed-9fbb-0a270aaeadd0"
      },
      "execution_count": null,
      "outputs": [
        {
          "output_type": "stream",
          "name": "stdout",
          "text": [
            "55\n",
            "14\n"
          ]
        }
      ]
    },
    {
      "cell_type": "markdown",
      "source": [
        "Simple Interest"
      ],
      "metadata": {
        "id": "c-ZVGxrmUrFe"
      }
    },
    {
      "cell_type": "code",
      "source": [
        "p = int(input(\"Enter The Prinicipal Amount : \"))\n",
        "r = int(input(\"Enter The Interest Rate in Rupees : \"))\n",
        "t = int(input(\"Enter The Time in Units : \"))\n",
        "\n",
        "S_I = (p*t*r)//100\n",
        "\n",
        "print(\"The Simple Interest Amount is : \", S_I)"
      ],
      "metadata": {
        "colab": {
          "base_uri": "https://localhost:8080/"
        },
        "id": "9_e3NPWkUtTk",
        "outputId": "3fc0fdd1-487b-4b2d-c719-bd9499b7e2fa"
      },
      "execution_count": null,
      "outputs": [
        {
          "output_type": "stream",
          "name": "stdout",
          "text": [
            "Enter The Prinicipal Amount : 10000\n",
            "Enter The Interest Rate in Rupees : 200\n",
            "Enter The Time in Units : 10\n",
            "The Simple Interest Amount is :  200000\n"
          ]
        }
      ]
    },
    {
      "cell_type": "markdown",
      "source": [
        "Armstrong number"
      ],
      "metadata": {
        "id": "vBAW8rWQzvs3"
      }
    },
    {
      "cell_type": "code",
      "source": [
        "def power(x, y):\n",
        "     \n",
        "    if y == 0:\n",
        "        return 1\n",
        "    if y % 2 == 0:\n",
        "        return power(x, y // 2) * power(x, y // 2)\n",
        "         \n",
        "    return x * power(x, y // 2) * power(x, y // 2)\n",
        " \n",
        "def order(x):\n",
        " \n",
        "    n = 0\n",
        "    while (x != 0):\n",
        "        n = n + 1\n",
        "        x = x // 10\n",
        "         \n",
        "    return n\n",
        "\n",
        "def isArmstrong(x):\n",
        "     \n",
        "    n = order(x)\n",
        "    temp = x\n",
        "    sum1 = 0\n",
        "     \n",
        "    while (temp != 0):\n",
        "        r = temp % 10\n",
        "        sum1 = sum1 + power(r, n)\n",
        "        temp = temp // 10\n",
        " \n",
        "    return (sum1 == x)\n",
        " \n",
        "# Driver code\n",
        "x = 153\n",
        "print(isArmstrong(x))\n",
        " \n",
        "x = 1253\n",
        "print(isArmstrong(x))"
      ],
      "metadata": {
        "colab": {
          "base_uri": "https://localhost:8080/"
        },
        "id": "zZaO7E5gzKnJ",
        "outputId": "985fd407-a37e-4b80-e189-cfccd5389d46"
      },
      "execution_count": 1,
      "outputs": [
        {
          "output_type": "stream",
          "name": "stdout",
          "text": [
            "True\n",
            "False\n"
          ]
        }
      ]
    }
  ]
}