{
  "nbformat": 4,
  "nbformat_minor": 0,
  "metadata": {
    "colab": {
      "name": "Arrays",
      "provenance": [],
      "authorship_tag": "ABX9TyMaHiXHPAPg1oCX1OKcV7Pj",
      "include_colab_link": true
    },
    "kernelspec": {
      "name": "python3",
      "display_name": "Python 3"
    },
    "language_info": {
      "name": "python"
    }
  },
  "cells": [
    {
      "cell_type": "markdown",
      "metadata": {
        "id": "view-in-github",
        "colab_type": "text"
      },
      "source": [
        "<a href=\"https://colab.research.google.com/github/HajiraRafiqa/Python-Practice/blob/main/Arrays.ipynb\" target=\"_parent\"><img src=\"https://colab.research.google.com/assets/colab-badge.svg\" alt=\"Open In Colab\"/></a>"
      ]
    },
    {
      "cell_type": "markdown",
      "source": [
        "ARRAYS"
      ],
      "metadata": {
        "id": "bJ1IxBv6z_jP"
      }
    },
    {
      "cell_type": "code",
      "execution_count": 1,
      "metadata": {
        "colab": {
          "base_uri": "https://localhost:8080/"
        },
        "id": "UAHkk25ewY--",
        "outputId": "eea6f480-03f6-41e6-f6f3-25946895da49"
      },
      "outputs": [
        {
          "output_type": "stream",
          "name": "stdout",
          "text": [
            "array('i', [8, 7, 6, 4, 3, 5])\n",
            "(139697922712976, 6)\n",
            "i\n",
            "2\n",
            "array('i', [8, 7, 6, 3, 5])\n",
            "array('i', [5, 3, 6, 7, 8])\n",
            "5 3 6 7 8 \n",
            "\n",
            "\n",
            "array('u', 'aeiou')\n",
            "a e i o u \n",
            "\n",
            "\n",
            "10 6 12 14 16 array('i', [2, 3, 4, 5, 7, 8])\n"
          ]
        }
      ],
      "source": [
        "from array import *\n",
        "vals = array('i', [8, 7, 6, 4, 3, 5])\n",
        "print(vals)\n",
        "print(vals.buffer_info())\n",
        "print(vals.typecode)\n",
        "print(vals.index(6))\n",
        "vals.remove(4)\n",
        "print(vals)\n",
        "vals.reverse()\n",
        "print(vals)\n",
        "for i in range(len(vals)):\n",
        "    print(vals[i], end=\" \")\n",
        "print(\"\\n\\n\")\n",
        "vals_1 = array('u', ['a', 'e', 'i', 'o', 'u'])\n",
        "print(vals_1)\n",
        "for i in vals_1:\n",
        "    print(i, end=\" \")\n",
        "print(\"\\n\\n\")\n",
        "\n",
        "# When we don't know the type\n",
        "arr = array(vals.typecode, (a*2 for a in vals))\n",
        "for i in arr:\n",
        "    print(i, end=\" \")\n",
        "\n",
        "\n",
        "# Write a Code to sort the array in ascending order\n",
        "\n",
        "from array import *\n",
        "\n",
        "nums = array('i', [8, 4, 7, 3, 5, 2])\n",
        "\n",
        "for i in range(len(nums)):\n",
        "    for j in range(len(nums)):\n",
        "        if nums[i] < nums[j]:\n",
        "            nums[i], nums[j] = nums[j], nums[i]\n",
        "\n",
        "print(nums)"
      ]
    },
    {
      "cell_type": "markdown",
      "source": [
        "#append()\tAdds an element at the end of the list\n",
        "#clear()\tRemoves all the elements from the list\n",
        "#copy()\tReturns a copy of the list\n",
        "#count()\tReturns the number of elements with the specified value\n",
        "#extend()\tAdd the elements of a list (or any iterable), to the end of the current list\n",
        "#index()\tReturns the index of the first element with the specified value\n",
        "#insert()\tAdds an element at the specified position\n",
        "#pop()\tRemoves the element at the specified position\n",
        "#remove()\tRemoves the first item with the specified value\n",
        "#reverse()\tReverses the order of the list\n",
        "#sort()\tSorts the list\n",
        "#Note: Python does not have built-in support for Arrays, but Python Lists can be used instead"
      ],
      "metadata": {
        "id": "J47PH0UYyV0g"
      }
    },
    {
      "cell_type": "code",
      "source": [
        "from array import *\n",
        "\n",
        "arr = array('i', [])\n",
        "n = int(input(\"Enter the length of the Array : \"))\n",
        "for i in range(n):\n",
        "    x = int(input(\"Enter the Next Value : \"))\n",
        "    arr.append(x)\n",
        "print(arr)\n",
        "val = int(input(\"Enter the Value for Search : \"))\n",
        "for i in range(1, len(arr)):\n",
        "    if val == arr[i]:\n",
        "        print(\"Value Found at Index : \", i)\n",
        "\n",
        "\n",
        "# 1. Ceate an array With 5 Values and delete the value at index number 2 without using inbuilt funtion\n",
        "\n",
        "arr1 = array('i', [7, 8, 4, 6, 9])\n",
        "ind = int(input(\"Enter the index Number of The Number That You Want to Delete : \"))\n",
        "\"\"\"\n",
        "c = [ e for i,e in enumerate(arr1) if i != ind ]\n",
        "print(arr1)\n",
        "print(c)\n",
        "\"\"\"\n",
        "\n",
        "arr1 = arr1[0:ind]+arr1[ind+1:]\n",
        "print(arr1)\n",
        "\n",
        "# 2. Write a code to reverse an array without using\n",
        "#    in-built function\n",
        "\n",
        "rev = arr1[::-1]\n",
        "print(rev)\n",
        "\n",
        "for i in range(int(len(arr1)/2)):\n",
        "    n = arr1[i]\n",
        "    arr1[i] = arr1[len(arr1)-i-1]\n",
        "    arr1[len(arr1) - i - 1] = n\n",
        "\n",
        "print(arr1)"
      ],
      "metadata": {
        "colab": {
          "base_uri": "https://localhost:8080/"
        },
        "id": "BhbPDmHayaEW",
        "outputId": "88f7c649-b3d2-4433-9e21-ee272fd46092"
      },
      "execution_count": 2,
      "outputs": [
        {
          "output_type": "stream",
          "name": "stdout",
          "text": [
            "Enter the length of the Array : 10\n",
            "Enter the Next Value : 3\n",
            "Enter the Next Value : 4\n",
            "Enter the Next Value : 5\n",
            "Enter the Next Value : 6\n",
            "Enter the Next Value : 7\n",
            "Enter the Next Value : 8\n",
            "Enter the Next Value : 9\n",
            "Enter the Next Value : 1\n",
            "Enter the Next Value : 2\n",
            "Enter the Next Value : 10\n",
            "array('i', [3, 4, 5, 6, 7, 8, 9, 1, 2, 10])\n",
            "Enter the Value for Search : 6\n",
            "Value Found at Index :  3\n",
            "Enter the index Number of The Number That You Want to Delete : 7\n",
            "array('i', [7, 8, 4, 6, 9])\n",
            "array('i', [9, 6, 4, 8, 7])\n",
            "array('i', [9, 6, 4, 8, 7])\n"
          ]
        }
      ]
    },
    {
      "cell_type": "markdown",
      "source": [
        "NumPY Arrays"
      ],
      "metadata": {
        "id": "o2dKsIJ10J9Y"
      }
    },
    {
      "cell_type": "code",
      "source": [
        "from numpy import *\n",
        "\n",
        "arr = array([[7, 8, 9, 5, 6, 4, 3], [3, 4, 5, 7, 6, 8, 9]])\n",
        "print(arr)"
      ],
      "metadata": {
        "colab": {
          "base_uri": "https://localhost:8080/"
        },
        "id": "d3t0oDaU0PbL",
        "outputId": "4fc96c9c-fc7a-469c-82ca-8a185623291d"
      },
      "execution_count": 3,
      "outputs": [
        {
          "output_type": "stream",
          "name": "stdout",
          "text": [
            "[[7 8 9 5 6 4 3]\n",
            " [3 4 5 7 6 8 9]]\n"
          ]
        }
      ]
    },
    {
      "cell_type": "markdown",
      "source": [
        "# 1. array() \n",
        "# 2. linspace()\n",
        "# 3. logspace()\n",
        "# 4. arange()\n",
        "# 5. zeros()\n",
        "# 6. ones()"
      ],
      "metadata": {
        "id": "FALxWVrX0vbH"
      }
    },
    {
      "cell_type": "code",
      "source": [
        "from numpy import *\n",
        "\n",
        "arr = array([1, 2, 3, 4, 5.3], int)\n",
        "print(arr.dtype)\n",
        "print(arr)\n",
        "\n",
        "arr = linspace(0, 15, 20)\n",
        "print(arr)\n",
        "\n",
        "arr = arange(1, 15, 2)\n",
        "print(arr)\n",
        "\n",
        "arr = logspace(1, 40, 5)\n",
        "print(arr)\n",
        "\n",
        "arr = zeros(5, int)\n",
        "print(arr)\n",
        "\n",
        "arr = ones(5, int)\n",
        "print(arr)"
      ],
      "metadata": {
        "colab": {
          "base_uri": "https://localhost:8080/"
        },
        "id": "nqdOtABu0auU",
        "outputId": "c6174009-1d15-457c-8236-2fa5ddb276e3"
      },
      "execution_count": 4,
      "outputs": [
        {
          "output_type": "stream",
          "name": "stdout",
          "text": [
            "int64\n",
            "[1 2 3 4 5]\n",
            "[ 0.          0.78947368  1.57894737  2.36842105  3.15789474  3.94736842\n",
            "  4.73684211  5.52631579  6.31578947  7.10526316  7.89473684  8.68421053\n",
            "  9.47368421 10.26315789 11.05263158 11.84210526 12.63157895 13.42105263\n",
            " 14.21052632 15.        ]\n",
            "[ 1  3  5  7  9 11 13]\n",
            "[1.00000000e+01 5.62341325e+10 3.16227766e+20 1.77827941e+30\n",
            " 1.00000000e+40]\n",
            "[0 0 0 0 0]\n",
            "[1 1 1 1 1]\n"
          ]
        }
      ]
    },
    {
      "cell_type": "markdown",
      "source": [
        "# Shallow Copy --> Both the arrays will be dependent on each other so if we update the value in one array it reflects in the other array too\n",
        "\n",
        "# Deep Copy --> The Two Different arrays which are not linked in any way in which one array would be copied from other\n",
        "\n"
      ],
      "metadata": {
        "id": "oC-bn3AJ1mUH"
      }
    },
    {
      "cell_type": "code",
      "source": [
        "from numpy import *\n",
        "import itertools\n",
        "\n",
        "\n",
        "arr1 = array([1, 2, 3, 4, 5])\n",
        "arr2 = array([8, 9, 4, 2, 7])\n",
        "arr3 = arr1 + arr2  # Vectorized Operation\n",
        "\n",
        "print(sin(arr3))\n",
        "print(cos(arr3))\n",
        "print(tan(arr3))\n",
        "print(min(arr3))\n",
        "print(max(arr3))\n",
        "print(sqrt(arr3))\n",
        "print(sort(arr3))\n",
        "print(sum(arr3))\n",
        "print(concatenate([arr1, arr2]))\n",
        "\n",
        "\n",
        "# Copying an array\n",
        "print(\"\\n\\n\")\n",
        "arr4 = arr3    # Aliasing\n",
        "print(arr3)\n",
        "print(arr4)\n",
        "print(id(arr3))\n",
        "print(id(arr4))\n",
        "print(\"\\n\\n\")\n",
        "\n",
        "arr4 = arr3.view()  # Shallow Copy\n",
        "\n",
        "print(arr3)\n",
        "print(arr4)\n",
        "print(id(arr3))\n",
        "print(id(arr4))\n",
        "print(\"\\n\\n\")\n",
        "\n",
        "arr4 = arr3.copy()  # Deep Copy\n",
        "\n",
        "print(arr3)\n",
        "print(arr4)\n",
        "print(id(arr3))\n",
        "print(id(arr4))\n",
        "\n",
        "\n",
        "# Assignment\n",
        "\n",
        "for i in range(len(arr)):\n",
        "    arr[i] = arr[i] + 5\n",
        "print(arr)\n",
        "arr = arr + 5\n",
        "print(arr)\n",
        "\n",
        "\n",
        "# 1. Write a code to add 2 arrays using forloop.\n",
        "\n",
        "arr1 = array([2, 3, 4, 5, 6])\n",
        "arr2 = array([8, 7, 6, 5, 4])\n",
        "arr3 = array([0, 0, 0, 0, 0])\n",
        "for i in range(len(arr1) | len(arr2)):\n",
        "    arr3[i] = arr1[i]+arr2[i]\n",
        "print(arr3)\n",
        "\n",
        "# 2. Write a code to find the maximum value from an array without using in built functions\n",
        "\n",
        "arr = array([82, 97, 26, 115, 44])\n",
        "h = 0\n",
        "for num in arr:\n",
        "    if num > h:\n",
        "        h = num\n",
        "print(\"The Hihgest Number is : \", h)"
      ],
      "metadata": {
        "colab": {
          "base_uri": "https://localhost:8080/"
        },
        "id": "A-yqmFxx1FLU",
        "outputId": "34fb9cc5-6cd1-4405-e9c6-6fcddd46be9c"
      },
      "execution_count": 5,
      "outputs": [
        {
          "output_type": "stream",
          "name": "stdout",
          "text": [
            "[ 0.41211849 -0.99999021  0.6569866  -0.2794155  -0.53657292]\n",
            "[-0.91113026  0.0044257   0.75390225  0.96017029  0.84385396]\n",
            "[  -0.45231566 -225.95084645    0.87144798   -0.29100619   -0.63585993]\n",
            "6\n",
            "12\n",
            "[3.         3.31662479 2.64575131 2.44948974 3.46410162]\n",
            "[ 6  7  9 11 12]\n",
            "45\n",
            "[1 2 3 4 5 8 9 4 2 7]\n",
            "\n",
            "\n",
            "\n",
            "[ 9 11  7  6 12]\n",
            "[ 9 11  7  6 12]\n",
            "139697852849872\n",
            "139697852849872\n",
            "\n",
            "\n",
            "\n",
            "[ 9 11  7  6 12]\n",
            "[ 9 11  7  6 12]\n",
            "139697852849872\n",
            "139697852848144\n",
            "\n",
            "\n",
            "\n",
            "[ 9 11  7  6 12]\n",
            "[ 9 11  7  6 12]\n",
            "139697852849872\n",
            "139697852848912\n",
            "[6 6 6 6 6]\n",
            "[11 11 11 11 11]\n",
            "[10 10 10 10 10]\n",
            "The Hihgest Number is :  115\n"
          ]
        }
      ]
    }
  ]
}