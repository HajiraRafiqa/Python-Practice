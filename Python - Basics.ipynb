{
  "nbformat": 4,
  "nbformat_minor": 0,
  "metadata": {
    "colab": {
      "name": "Untitled0.ipynb",
      "provenance": [],
      "authorship_tag": "ABX9TyPvZZnXcWgxDd2oGJfyIGVe",
      "include_colab_link": true
    },
    "kernelspec": {
      "name": "python3",
      "display_name": "Python 3"
    },
    "language_info": {
      "name": "python"
    }
  },
  "cells": [
    {
      "cell_type": "markdown",
      "metadata": {
        "id": "view-in-github",
        "colab_type": "text"
      },
      "source": [
        "<a href=\"https://colab.research.google.com/github/HajiraRafiqa/Python-Practice/blob/main/Python%20-%20Basics.ipynb\" target=\"_parent\"><img src=\"https://colab.research.google.com/assets/colab-badge.svg\" alt=\"Open In Colab\"/></a>"
      ]
    },
    {
      "cell_type": "code",
      "execution_count": 11,
      "metadata": {
        "colab": {
          "base_uri": "https://localhost:8080/"
        },
        "id": "igf_hD68qb7M",
        "outputId": "b8fc6409-d8d4-4505-ffa1-3580ed0a9527"
      },
      "outputs": [
        {
          "output_type": "execute_result",
          "data": {
            "text/plain": [
              "12.0"
            ]
          },
          "metadata": {},
          "execution_count": 11
        }
      ],
      "source": [
        "x =2.\n",
        "x\n",
        "_ + 10"
      ]
    },
    {
      "cell_type": "markdown",
      "source": [
        "lists - extend()- to add multiple values in lists.\n",
        "        pop()- to pop out last element. uses index values.\n",
        "        pop(1)- to remove 1 or specific value.\n",
        "        remove(value)- to remove value from the list. uses elements.\n",
        "        insert() "
      ],
      "metadata": {
        "id": "rs2vspCrHvOh"
      }
    },
    {
      "cell_type": "code",
      "source": [
        "from array import *\n",
        "\n",
        "vals = array(\"f\", [1.5,2.0,3,4,5])\n",
        "\n",
        "print(vals)\n"
      ],
      "metadata": {
        "colab": {
          "base_uri": "https://localhost:8080/"
        },
        "id": "dATP_yVjsE81",
        "outputId": "c1e48e65-ca2e-4193-a213-373db0d5d9db"
      },
      "execution_count": 9,
      "outputs": [
        {
          "output_type": "stream",
          "name": "stdout",
          "text": [
            "array('f', [1.5, 2.0, 3.0, 4.0, 5.0])\n"
          ]
        }
      ]
    },
    {
      "cell_type": "markdown",
      "source": [
        "Lamda function, filter(), map(), reduce()"
      ],
      "metadata": {
        "id": "i4buEUxLkoq5"
      }
    },
    {
      "cell_type": "code",
      "source": [
        "nums = [1,2,3,4,5,6,7,8,9,10]\n",
        "\n",
        "even = list(filter(lambda n : n % 2 == 0, nums))\n",
        "print(even)"
      ],
      "metadata": {
        "colab": {
          "base_uri": "https://localhost:8080/"
        },
        "id": "gHMt5XAXkkK8",
        "outputId": "e5c6edfe-83de-4129-a668-70025635e3d0"
      },
      "execution_count": 1,
      "outputs": [
        {
          "output_type": "stream",
          "name": "stdout",
          "text": [
            "[2, 4, 6, 8, 10]\n"
          ]
        }
      ]
    },
    {
      "cell_type": "code",
      "source": [
        "from numpy import *\n",
        "\n",
        "arr = array([1,2,3,4,5])\n",
        "\n",
        "print(arr)\n"
      ],
      "metadata": {
        "colab": {
          "base_uri": "https://localhost:8080/"
        },
        "id": "HExt6WTX0ilE",
        "outputId": "78ab732a-61b1-4d8d-ef0f-0b6abfb4fb27"
      },
      "execution_count": 1,
      "outputs": [
        {
          "output_type": "stream",
          "name": "stdout",
          "text": [
            "[1 2 3 4 5]\n"
          ]
        }
      ]
    },
    {
      "cell_type": "code",
      "source": [
        "from numpy import *\n",
        "\n",
        "arr = array([\n",
        "             [1,2,3],\n",
        "             [4,5,6]\n",
        "])\n",
        "\n",
        "arr1 = arr.flatten()\n",
        "arr2 = arr.reshape(2,3)\n",
        "print(arr1)\n",
        "print(arr2)"
      ],
      "metadata": {
        "colab": {
          "base_uri": "https://localhost:8080/"
        },
        "id": "cs75bn7U5Z30",
        "outputId": "cefb17db-269a-4fbb-f399-0871d5e69928"
      },
      "execution_count": 8,
      "outputs": [
        {
          "output_type": "stream",
          "name": "stdout",
          "text": [
            "[1 2 3 4 5 6]\n",
            "[[1 2 3]\n",
            " [4 5 6]]\n"
          ]
        }
      ]
    },
    {
      "cell_type": "markdown",
      "source": [
        "fibonacci series"
      ],
      "metadata": {
        "id": "Jd69LKUuIopJ"
      }
    },
    {
      "cell_type": "code",
      "source": [
        "def fib(n):\n",
        "\n",
        "    a = 0\n",
        "    b = 1\n",
        "\n",
        "    if n == 1:\n",
        "        print(a)\n",
        "\n",
        "    else:\n",
        "        print(a)\n",
        "        print(b)\n",
        "\n",
        "    for i in range(2,n):\n",
        "        c = a + b\n",
        "        a = b\n",
        "        b = c\n",
        "        print(a+b)\n",
        "\n",
        "fib(10)"
      ],
      "metadata": {
        "colab": {
          "base_uri": "https://localhost:8080/"
        },
        "id": "2w81BqxbSqrK",
        "outputId": "42889d34-4560-414f-cfbc-859d9b392603"
      },
      "execution_count": 2,
      "outputs": [
        {
          "output_type": "stream",
          "name": "stdout",
          "text": [
            "0\n",
            "1\n",
            "2\n",
            "3\n",
            "5\n",
            "8\n",
            "13\n",
            "21\n",
            "34\n",
            "55\n"
          ]
        }
      ]
    }
  ]
}